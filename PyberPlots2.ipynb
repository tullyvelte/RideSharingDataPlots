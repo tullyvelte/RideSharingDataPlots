{
 "cells": [
  {
   "cell_type": "code",
   "execution_count": 1,
   "metadata": {
    "collapsed": true
   },
   "outputs": [],
   "source": [
    "import os\n",
    "import csv\n",
    "import pandas as pd\n",
    "import matplotlib.pyplot as plt\n",
    "import numpy as np"
   ]
  },
  {
   "cell_type": "code",
   "execution_count": 2,
   "metadata": {
    "collapsed": true
   },
   "outputs": [],
   "source": [
    "city_path = os.path.join('raw_data', 'city_data.csv')\n",
    "ride_path = os.path.join('raw_data', 'ride_data.csv')\n",
    "\n",
    "city_data = pd.read_csv(city_path)\n",
    "ride_data = pd.read_csv(ride_path)\n",
    "#city_data.head()"
   ]
  },
  {
   "cell_type": "code",
   "execution_count": 3,
   "metadata": {
    "collapsed": true
   },
   "outputs": [],
   "source": [
    "#ride_data.head(1)\n"
   ]
  },
  {
   "cell_type": "code",
   "execution_count": 4,
   "metadata": {
    "collapsed": true
   },
   "outputs": [],
   "source": [
    "# Your objective is to build a [Bubble Plot](https://en.wikipedia.org/wiki/Bubble_chart) that showcases the relationship between four key variables:"
   ]
  },
  {
   "cell_type": "code",
   "execution_count": 5,
   "metadata": {},
   "outputs": [
    {
     "data": {
      "text/html": [
       "<div>\n",
       "<style>\n",
       "    .dataframe thead tr:only-child th {\n",
       "        text-align: right;\n",
       "    }\n",
       "\n",
       "    .dataframe thead th {\n",
       "        text-align: left;\n",
       "    }\n",
       "\n",
       "    .dataframe tbody tr th {\n",
       "        vertical-align: top;\n",
       "    }\n",
       "</style>\n",
       "<table border=\"1\" class=\"dataframe\">\n",
       "  <thead>\n",
       "    <tr style=\"text-align: right;\">\n",
       "      <th></th>\n",
       "      <th>city</th>\n",
       "      <th>driver_count</th>\n",
       "      <th>type</th>\n",
       "      <th>date</th>\n",
       "      <th>fare</th>\n",
       "      <th>ride_id</th>\n",
       "    </tr>\n",
       "  </thead>\n",
       "  <tbody>\n",
       "    <tr>\n",
       "      <th>0</th>\n",
       "      <td>Kelseyland</td>\n",
       "      <td>63</td>\n",
       "      <td>Urban</td>\n",
       "      <td>2016-08-19 04:27:52</td>\n",
       "      <td>5.51</td>\n",
       "      <td>6246006544795</td>\n",
       "    </tr>\n",
       "    <tr>\n",
       "      <th>1</th>\n",
       "      <td>Kelseyland</td>\n",
       "      <td>63</td>\n",
       "      <td>Urban</td>\n",
       "      <td>2016-04-17 06:59:50</td>\n",
       "      <td>5.54</td>\n",
       "      <td>7466473222333</td>\n",
       "    </tr>\n",
       "    <tr>\n",
       "      <th>2</th>\n",
       "      <td>Kelseyland</td>\n",
       "      <td>63</td>\n",
       "      <td>Urban</td>\n",
       "      <td>2016-05-04 15:06:07</td>\n",
       "      <td>30.54</td>\n",
       "      <td>2140501382736</td>\n",
       "    </tr>\n",
       "    <tr>\n",
       "      <th>3</th>\n",
       "      <td>Kelseyland</td>\n",
       "      <td>63</td>\n",
       "      <td>Urban</td>\n",
       "      <td>2016-01-25 20:44:56</td>\n",
       "      <td>12.08</td>\n",
       "      <td>1896987891309</td>\n",
       "    </tr>\n",
       "    <tr>\n",
       "      <th>4</th>\n",
       "      <td>Kelseyland</td>\n",
       "      <td>63</td>\n",
       "      <td>Urban</td>\n",
       "      <td>2016-08-09 18:19:47</td>\n",
       "      <td>17.91</td>\n",
       "      <td>8784212854829</td>\n",
       "    </tr>\n",
       "  </tbody>\n",
       "</table>\n",
       "</div>"
      ],
      "text/plain": [
       "         city  driver_count   type                 date   fare        ride_id\n",
       "0  Kelseyland            63  Urban  2016-08-19 04:27:52   5.51  6246006544795\n",
       "1  Kelseyland            63  Urban  2016-04-17 06:59:50   5.54  7466473222333\n",
       "2  Kelseyland            63  Urban  2016-05-04 15:06:07  30.54  2140501382736\n",
       "3  Kelseyland            63  Urban  2016-01-25 20:44:56  12.08  1896987891309\n",
       "4  Kelseyland            63  Urban  2016-08-09 18:19:47  17.91  8784212854829"
      ]
     },
     "execution_count": 5,
     "metadata": {},
     "output_type": "execute_result"
    }
   ],
   "source": [
    "combined_data_df = pd.merge(city_data, ride_data, on=\"city\", how=\"outer\")\n",
    "combined_data_df.head()\n",
    "\n"
   ]
  },
  {
   "cell_type": "code",
   "execution_count": 19,
   "metadata": {},
   "outputs": [
    {
     "data": {
      "text/html": [
       "<div>\n",
       "<style>\n",
       "    .dataframe thead tr:only-child th {\n",
       "        text-align: right;\n",
       "    }\n",
       "\n",
       "    .dataframe thead th {\n",
       "        text-align: left;\n",
       "    }\n",
       "\n",
       "    .dataframe tbody tr th {\n",
       "        vertical-align: top;\n",
       "    }\n",
       "</style>\n",
       "<table border=\"1\" class=\"dataframe\">\n",
       "  <thead>\n",
       "    <tr style=\"text-align: right;\">\n",
       "      <th></th>\n",
       "      <th>city</th>\n",
       "      <th>fare</th>\n",
       "      <th>ride_id</th>\n",
       "      <th>driver_count</th>\n",
       "    </tr>\n",
       "  </thead>\n",
       "  <tbody>\n",
       "    <tr>\n",
       "      <th>0</th>\n",
       "      <td>Alvarezhaven</td>\n",
       "      <td>23.928710</td>\n",
       "      <td>31</td>\n",
       "      <td>21</td>\n",
       "    </tr>\n",
       "    <tr>\n",
       "      <th>1</th>\n",
       "      <td>Alyssaberg</td>\n",
       "      <td>20.609615</td>\n",
       "      <td>26</td>\n",
       "      <td>67</td>\n",
       "    </tr>\n",
       "    <tr>\n",
       "      <th>2</th>\n",
       "      <td>Antoniomouth</td>\n",
       "      <td>23.625000</td>\n",
       "      <td>22</td>\n",
       "      <td>21</td>\n",
       "    </tr>\n",
       "    <tr>\n",
       "      <th>3</th>\n",
       "      <td>Aprilchester</td>\n",
       "      <td>21.981579</td>\n",
       "      <td>19</td>\n",
       "      <td>49</td>\n",
       "    </tr>\n",
       "    <tr>\n",
       "      <th>4</th>\n",
       "      <td>Arnoldview</td>\n",
       "      <td>25.106452</td>\n",
       "      <td>31</td>\n",
       "      <td>41</td>\n",
       "    </tr>\n",
       "  </tbody>\n",
       "</table>\n",
       "</div>"
      ],
      "text/plain": [
       "           city       fare  ride_id  driver_count\n",
       "0  Alvarezhaven  23.928710       31            21\n",
       "1    Alyssaberg  20.609615       26            67\n",
       "2  Antoniomouth  23.625000       22            21\n",
       "3  Aprilchester  21.981579       19            49\n",
       "4    Arnoldview  25.106452       31            41"
      ]
     },
     "execution_count": 19,
     "metadata": {},
     "output_type": "execute_result"
    }
   ],
   "source": [
    "# URBAN RIDE INFO\n",
    "\n",
    "urban_data = combined_data_df.loc[combined_data_df[\"type\"] == \"Urban\"]#.count()\n",
    "urban_data = pd.DataFrame(urban_data)\n",
    "\n",
    "urban_data.head()\n",
    "\n",
    "urban_places = urban_data.groupby(\"city\")\n",
    "\n",
    "urban_fares_avg = urban_places['fare'].mean()\n",
    "urban_fares_avg = pd.DataFrame(urban_fares_avg).reset_index()\n",
    "#urban_fares_avg.head()\n",
    "\n",
    "# * Total Number of Rides Per City\n",
    "urban_rides = urban_places['ride_id'].count()\n",
    "urban_rides = pd.DataFrame(urban_rides).reset_index()\n",
    "#urban_rides.head()\n",
    "\n",
    "# Total Number of Drivers\n",
    "\n",
    "urban_drivers = urban_places['driver_count'].max()\n",
    "urban_drivers = pd.DataFrame(urban_drivers).reset_index()\n",
    "urban_drivers['driver_count'] = pd.to_numeric(urban_drivers['driver_count'])\n",
    "#urban_drivers.head()\n",
    "\n",
    "urban_merge = pd.merge(urban_fares_avg, urban_rides, on='city', how='outer')\n",
    "#urban_merge.head()\n",
    "\n",
    "urban_merge = pd.merge(urban_fares_avg, urban_rides, on='city', how='outer')\n",
    "#urban_merge.head()\n",
    "\n",
    "urban_merge2 = pd.merge(urban_merge, urban_drivers, on='city', how='outer')\n",
    "\n",
    "urban_merge2.head()"
   ]
  },
  {
   "cell_type": "code",
   "execution_count": 18,
   "metadata": {},
   "outputs": [
    {
     "data": {
      "text/html": [
       "<div>\n",
       "<style>\n",
       "    .dataframe thead tr:only-child th {\n",
       "        text-align: right;\n",
       "    }\n",
       "\n",
       "    .dataframe thead th {\n",
       "        text-align: left;\n",
       "    }\n",
       "\n",
       "    .dataframe tbody tr th {\n",
       "        vertical-align: top;\n",
       "    }\n",
       "</style>\n",
       "<table border=\"1\" class=\"dataframe\">\n",
       "  <thead>\n",
       "    <tr style=\"text-align: right;\">\n",
       "      <th></th>\n",
       "      <th>city</th>\n",
       "      <th>fare</th>\n",
       "      <th>ride_id</th>\n",
       "      <th>driver_count</th>\n",
       "    </tr>\n",
       "  </thead>\n",
       "  <tbody>\n",
       "    <tr>\n",
       "      <th>0</th>\n",
       "      <td>Anitamouth</td>\n",
       "      <td>37.315556</td>\n",
       "      <td>9</td>\n",
       "      <td>16</td>\n",
       "    </tr>\n",
       "    <tr>\n",
       "      <th>1</th>\n",
       "      <td>Campbellport</td>\n",
       "      <td>33.711333</td>\n",
       "      <td>15</td>\n",
       "      <td>26</td>\n",
       "    </tr>\n",
       "    <tr>\n",
       "      <th>2</th>\n",
       "      <td>Carrollbury</td>\n",
       "      <td>36.606000</td>\n",
       "      <td>10</td>\n",
       "      <td>4</td>\n",
       "    </tr>\n",
       "    <tr>\n",
       "      <th>3</th>\n",
       "      <td>Clarkstad</td>\n",
       "      <td>31.051667</td>\n",
       "      <td>12</td>\n",
       "      <td>21</td>\n",
       "    </tr>\n",
       "    <tr>\n",
       "      <th>4</th>\n",
       "      <td>Conwaymouth</td>\n",
       "      <td>34.591818</td>\n",
       "      <td>11</td>\n",
       "      <td>18</td>\n",
       "    </tr>\n",
       "  </tbody>\n",
       "</table>\n",
       "</div>"
      ],
      "text/plain": [
       "           city       fare  ride_id  driver_count\n",
       "0    Anitamouth  37.315556        9            16\n",
       "1  Campbellport  33.711333       15            26\n",
       "2   Carrollbury  36.606000       10             4\n",
       "3     Clarkstad  31.051667       12            21\n",
       "4   Conwaymouth  34.591818       11            18"
      ]
     },
     "execution_count": 18,
     "metadata": {},
     "output_type": "execute_result"
    }
   ],
   "source": [
    "# SUBURBAN RIDE INFO\n",
    "\n",
    "suburban_data = combined_data_df.loc[combined_data_df[\"type\"] == \"Suburban\"]#.count()\n",
    "suburban_data = pd.DataFrame(suburban_data)\n",
    "\n",
    "#suburban_data.head()\n",
    "\n",
    "suburban_places = suburban_data.groupby(\"city\")\n",
    "\n",
    "suburban_fares_avg = suburban_places['fare'].mean()\n",
    "suburban_fares_avg = pd.DataFrame(suburban_fares_avg).reset_index()\n",
    "#suburban_fares_avg.head()\n",
    "\n",
    "# * Total Number of Rides Per City\n",
    "suburban_rides = suburban_places['ride_id'].count()\n",
    "suburban_rides = pd.DataFrame(suburban_rides).reset_index()\n",
    "#urban_rides.head()\n",
    "\n",
    "# Total Number of Drivers\n",
    "\n",
    "suburban_drivers = suburban_places['driver_count'].max()\n",
    "suburban_drivers = pd.DataFrame(suburban_drivers).reset_index()\n",
    "suburban_drivers['driver_count'] = pd.to_numeric(suburban_drivers['driver_count'])\n",
    "#suburban_drivers.head()\n",
    "\n",
    "suburban_merge = pd.merge(suburban_fares_avg, suburban_rides, on='city', how='outer')\n",
    "#suburban_merge.head()\n",
    "\n",
    "suburban_merge = pd.merge(suburban_fares_avg, suburban_rides, on='city', how='outer')\n",
    "#urban_merge.head()\n",
    "\n",
    "suburban_merge2 = pd.merge(suburban_merge, suburban_drivers, on='city', how='outer')\n",
    "\n",
    "suburban_merge2.head()\n"
   ]
  },
  {
   "cell_type": "code",
   "execution_count": 22,
   "metadata": {},
   "outputs": [
    {
     "data": {
      "text/html": [
       "<div>\n",
       "<style>\n",
       "    .dataframe thead tr:only-child th {\n",
       "        text-align: right;\n",
       "    }\n",
       "\n",
       "    .dataframe thead th {\n",
       "        text-align: left;\n",
       "    }\n",
       "\n",
       "    .dataframe tbody tr th {\n",
       "        vertical-align: top;\n",
       "    }\n",
       "</style>\n",
       "<table border=\"1\" class=\"dataframe\">\n",
       "  <thead>\n",
       "    <tr style=\"text-align: right;\">\n",
       "      <th></th>\n",
       "      <th>city</th>\n",
       "      <th>fare</th>\n",
       "      <th>ride_id</th>\n",
       "      <th>driver_count</th>\n",
       "    </tr>\n",
       "  </thead>\n",
       "  <tbody>\n",
       "    <tr>\n",
       "      <th>0</th>\n",
       "      <td>East Leslie</td>\n",
       "      <td>33.660909</td>\n",
       "      <td>11</td>\n",
       "      <td>9</td>\n",
       "    </tr>\n",
       "    <tr>\n",
       "      <th>1</th>\n",
       "      <td>East Stephen</td>\n",
       "      <td>39.053000</td>\n",
       "      <td>10</td>\n",
       "      <td>6</td>\n",
       "    </tr>\n",
       "    <tr>\n",
       "      <th>2</th>\n",
       "      <td>East Troybury</td>\n",
       "      <td>33.244286</td>\n",
       "      <td>7</td>\n",
       "      <td>3</td>\n",
       "    </tr>\n",
       "    <tr>\n",
       "      <th>3</th>\n",
       "      <td>Erikport</td>\n",
       "      <td>30.043750</td>\n",
       "      <td>8</td>\n",
       "      <td>3</td>\n",
       "    </tr>\n",
       "    <tr>\n",
       "      <th>4</th>\n",
       "      <td>Hernandezshire</td>\n",
       "      <td>32.002222</td>\n",
       "      <td>9</td>\n",
       "      <td>10</td>\n",
       "    </tr>\n",
       "  </tbody>\n",
       "</table>\n",
       "</div>"
      ],
      "text/plain": [
       "             city       fare  ride_id  driver_count\n",
       "0     East Leslie  33.660909       11             9\n",
       "1    East Stephen  39.053000       10             6\n",
       "2   East Troybury  33.244286        7             3\n",
       "3        Erikport  30.043750        8             3\n",
       "4  Hernandezshire  32.002222        9            10"
      ]
     },
     "execution_count": 22,
     "metadata": {},
     "output_type": "execute_result"
    }
   ],
   "source": [
    "# RURAL RIDE INFO\n",
    "\n",
    "rural_data = combined_data_df.loc[combined_data_df[\"type\"] == \"Rural\"]#.count()\n",
    "rural_data = pd.DataFrame(rural_data)\n",
    "\n",
    "#rural_data.head()\n",
    "\n",
    "rural_places = rural_data.groupby(\"city\")\n",
    "\n",
    "rural_fares_avg = rural_places['fare'].mean()\n",
    "rural_fares_avg = pd.DataFrame(rural_fares_avg).reset_index()\n",
    "#rural_fares_avg.head()\n",
    "\n",
    "# * Total Number of Rides Per City\n",
    "rural_rides = rural_places['ride_id'].count()\n",
    "rural_rides = pd.DataFrame(rural_rides).reset_index()\n",
    "#urban_rides.head()\n",
    "\n",
    "# Total Number of Drivers\n",
    "\n",
    "rural_drivers = rural_places['driver_count'].max()\n",
    "rural_drivers = pd.DataFrame(rural_drivers).reset_index()\n",
    "rural_drivers['driver_count'] = pd.to_numeric(rural_drivers['driver_count'])\n",
    "#rural_drivers.head()\n",
    "\n",
    "rural_merge = pd.merge(rural_fares_avg, rural_rides, on='city', how='outer')\n",
    "#rural_merge.head()\n",
    "\n",
    "rural_merge = pd.merge(rural_fares_avg, rural_rides, on='city', how='outer')\n",
    "#urban_merge.head()\n",
    "\n",
    "rural_merge2 = pd.merge(rural_merge, rural_drivers, on='city', how='outer')\n",
    "\n",
    "rural_merge2.head()"
   ]
  },
  {
   "cell_type": "code",
   "execution_count": 23,
   "metadata": {},
   "outputs": [
    {
     "data": {
      "image/png": "[encoded data removed]",
      "text/plain": [
       "<matplotlib.figure.Figure at 0x1141e1c18>"
      ]
     },
     "metadata": {},
     "output_type": "display_data"
    },
    {
     "data": {
      "image/png": "[encoded data removed]",
      "text/plain": [
       "<matplotlib.figure.Figure at 0x11473de10>"
      ]
     },
     "metadata": {},
     "output_type": "display_data"
    },
    {
     "data": {
      "image/png": "[encoded data removed]",
      "text/plain": [
       "<matplotlib.figure.Figure at 0x1147b9eb8>"
      ]
     },
     "metadata": {},
     "output_type": "display_data"
    }
   ],
   "source": [
    "s=(urban_merge2['driver_count'])\n",
    "urban_merge2.plot(kind=\"scatter\", x=\"ride_id\", y=\"fare\", s=s*5, Edgecolor=\"Black\", alpha=\".75\", figsize=(9,6))\n",
    "\n",
    "s=(suburban_merge2['driver_count'])\n",
    "suburban_merge2.plot(kind=\"scatter\", x=\"ride_id\", y=\"fare\", s=s*5, Facecolors=\"red\", Edgecolor=\"Black\", alpha=\".5\")\n",
    "\n",
    "s=(rural_merge2['driver_count'])\n",
    "rural_merge2.plot(kind=\"scatter\", x=\"ride_id\", y=\"fare\", s=s*5, Facecolors=\"orange\")\n",
    "\n",
    "plt.xlabel('Number of Rides')\n",
    "plt.ylabel('Average Fare')\n",
    "plt.show()\n",
    "\n",
    "#grid=True, figsize=(10, 5)"
   ]
  },
  {
   "cell_type": "code",
   "execution_count": 31,
   "metadata": {},
   "outputs": [
    {
     "data": {
      "image/png": "[encoded data removed]",
      "text/plain": [
       "<matplotlib.figure.Figure at 0x114378ac8>"
      ]
     },
     "metadata": {},
     "output_type": "display_data"
    }
   ],
   "source": [
    "# Making the Py Charts\n",
    "\n",
    "## % Total Fares by City Type\n",
    "\n",
    "# urban_fares_total = urban_data['fare'].sum()\n",
    "# print(urban_fares_total)\n",
    "# suburban_fares_total = suburban_data['fare'].sum()\n",
    "# print(suburban_fares_total)\n",
    "# rural_fares_total = rural_data['fare'].sum()\n",
    "# print(rural_fares_total)\n",
    "\n",
    "\n",
    "city_type_fare = [\"Urban\", \"Suburban\", \"Rural\"]\n",
    "city_rides_fares = [urban_fares_total, suburban_fares_total, rural_fares_total]\n",
    "\n",
    "colors = [\"Blue\", \"Red\", \"Orange\"]\n",
    "explode = [0.1, 0, 0]\n",
    "\n",
    "plt.pie(city_rides_fares, explode=explode, labels=city_type_fare, colors=colors)\n",
    "\n",
    "plt.axis(\"equal\")\n",
    "#plt.savefig(\"PyPies.png\") \n",
    "plt.show()"
   ]
  },
  {
   "cell_type": "code",
   "execution_count": null,
   "metadata": {
    "collapsed": true
   },
   "outputs": [],
   "source": []
  }
 ],
 "metadata": {
  "kernelspec": {
   "display_name": "Python [conda root]",
   "language": "python",
   "name": "conda-root-py"
  },
  "language_info": {
   "codemirror_mode": {
    "name": "ipython",
    "version": 3
   },
   "file_extension": ".py",
   "mimetype": "text/x-python",
   "name": "python",
   "nbconvert_exporter": "python",
   "pygments_lexer": "ipython3",
   "version": "3.6.2"
  }
 },
 "nbformat": 4,
 "nbformat_minor": 2
}
